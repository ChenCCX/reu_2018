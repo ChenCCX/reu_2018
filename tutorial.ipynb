{
 "cells": [
  {
   "cell_type": "markdown",
   "metadata": {},
   "source": [
    "# Getting Started with HPCs and GitHub\n",
    "\n",
    "The following notebook will outline how to:\n",
    "- connect to the Bridges High Performance Computer at the Pittsburgh Supercomputing Center\n",
    "- use GitHub and Git to transfer files from local machine to HPC \n",
    "- run a job on Bridges (batched or ondemand)\n"
   ]
  },
  {
   "cell_type": "markdown",
   "metadata": {},
   "source": [
    "### Connecting to Bridges\n",
    "\n",
    "The first thing you need to connect to Bridges is an account that gives you access.  Most of you will have a created an XSEDE user account at this point which requires Two Factor Authentication to login into systems with the [Single Sign On (SSO) Hub](https://portal.xsede.org/web/xup/single-sign-on-hub).  For more information on XSEDE 2FA go [here](https://portal.xsede.org/web/xup/single-sign-on-hub).  To forgo having to keep an additional device or method of login you can setup a password specific to Bridges [here](https://apr.psc.edu/autopwdreset/autopwdreset.html).\n",
    "\n",
    "Once you have your PSC credentials you will be able to SSH into Bridges from any SSH client.  SSH (Secure Shell) is an encrytped way to access remote systems so your data is safe.  For more info on this go [here](https://www.psc.edu/about-using-ssh).  On Linux and Mac computers or using a virtual machine with your favorite Linux distro you do not need any additional software to SSH as the default terminal contains built-in support.\n",
    "\n",
    "For Windows users you will need an SSH client application.  There are many different options available but for brevity I will offer 2 options.  The first is to download [PuTTY](https://www.chiark.greenend.org.uk/~sgtatham/putty/latest.html).  Once you download and install PuTTY you should see this screen when you open it up. "
   ]
  },
  {
   "cell_type": "code",
   "execution_count": null,
   "metadata": {},
   "outputs": [],
   "source": []
  }
 ],
 "metadata": {
  "kernelspec": {
   "display_name": "Python 3",
   "language": "python",
   "name": "python3"
  },
  "language_info": {
   "codemirror_mode": {
    "name": "ipython",
    "version": 3
   },
   "file_extension": ".py",
   "mimetype": "text/x-python",
   "name": "python",
   "nbconvert_exporter": "python",
   "pygments_lexer": "ipython3",
   "version": "3.6.4"
  }
 },
 "nbformat": 4,
 "nbformat_minor": 2
}
