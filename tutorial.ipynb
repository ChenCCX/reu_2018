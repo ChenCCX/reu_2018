{
 "cells": [
  {
   "cell_type": "markdown",
   "metadata": {},
   "source": [
    "# Getting Started with HPCs and GitHub\n",
    "\n",
    "The following notebook will outline how to:\n",
    "- connect to the Bridges High Performance Computer at the Pittsburgh Supercomputing Center\n",
    "- use GitHub and Git to transfer files from local machine to HPC \n",
    "- run a job on Bridges (batched or ondemand)\n"
   ]
  },
  {
   "cell_type": "markdown",
   "metadata": {},
   "source": [
    "### Connecting to Bridges\n",
    "\n",
    "The first thing you need to connect to Bridges is an account that gives you access.  Most of you will have a created an XSEDE user account at this point which requires Two Factor Authentication to login into systems with the [Single Sign On (SSO) Hub](https://portal.xsede.org/web/xup/single-sign-on-hub).  For more information on XSEDE 2FA go [here](https://portal.xsede.org/web/xup/single-sign-on-hub).  To forgo having to keep an additional device or method of login you can setup a password specific to Bridges [here](https://apr.psc.edu/autopwdreset/autopwdreset.html).\n",
    "\n",
    "Once you have your PSC credentials you will be able to SSH into Bridges from any SSH client.  SSH (Secure Shell) is an encrytped way to access remote systems so your data is safe.  For more info on this go [here](https://www.psc.edu/about-using-ssh).  \n",
    "\n",
    "For Windows users you will need an SSH client application.  There are many different options available but for brevity I will offer 2 options.  The first is to download [PuTTY](https://www.chiark.greenend.org.uk/~sgtatham/putty/latest.html).  Once you download and install PuTTY you should see this screen when you open it up. ![PuTTY Login Screen](/images/putty_default_login.png) All you need to do is edit the Host Name box with your _username@bridges.psc.edu_ and then click __Open__.  With success you should see a screen like this ![PuTTY Fingerprint](/images/putty_rsa_accept.png) Click Yes.  You should then be prompted for your newly minted PSC password. ![PuTTY Password](/images/putty_password.png)  Finally we will see a login screen the `$HOME` directory on Bridges.  There are two files spaces that you will regularly use on Bridges. `$HOME` should be used for your GitHub repo's which will contain all of the scripts need to run your analyses.  `$SCRATCH` should be used to store your data as there is more space allocated and the compute nodes can access information from this pylong5 storage much faster.  To switch between the directory use the `cd`(change directory) command (i.e. to change from my `$HOME` to my `$SCRATCH` directory I would type `cd $SCRATCH`).\n",
    "\n",
    "On Linux and Mac computers or using a virtual machine with your favorite Linux distro you do not need any additional software to SSH as the default terminal contains built-in support.  Open terminal and type `ssh username@bridges.psc.edu`.  You will be prompted to save the fingerprint so type `yes`.  Then put in your PSC password.  I previously saved my fingerprint key but your screen will look similar to this. ![Terminal Login](/images/terminal_login.png).\n"
   ]
  },
  {
   "cell_type": "markdown",
   "metadata": {},
   "source": [
    "### Git and GitHub\n",
    "\n",
    "If you haven't used Git or other version control software when working on coding or really any type of collaborative projects you should start right away.  Git is the command line tool behind the website GitHub which stores all the changes within a project.  Think of GitHub as your cloud backup for your project files.  There are a lot of great tutorials to get started with Git but two I have found to be very helpful are [Happy Git](http://happygitwithr.com/) and [Software Carpentry](http://swcarpentry.github.io/git-novice/).  To get started we are going to fork (make our own copy) of the repo this notebook is in and put it on our Bridges `$HOME` directory.  Navigate to the [top page](https://github.com/dhbrand/reu_2018) of the reu_2018.  Click the fork button ![Fork](/images/github_fork.png) "
   ]
  },
  {
   "cell_type": "markdown",
   "metadata": {},
   "source": [
    "and a screen will popup that looks like this\n",
    "\n",
    "\n",
    "![Forking](/images/github_forking.png). "
   ]
  },
  {
   "cell_type": "markdown",
   "metadata": {},
   "source": [
    "Now you have a repo that you own and control. Click the green __clone or download__ button followed by the copy to clipboard button. ![Clone and Copy](/images/github_clone.png)"
   ]
  },
  {
   "cell_type": "markdown",
   "metadata": {},
   "source": [
    "Head back over to the terminal window where you should be logged into your `$HOME` directory.  To download the __reu_2018__ repo type `git clone On Linux and Mac computers or using a virtual machine with your favorite Linux distro you do not need any additional software to SSH as the default terminal contains built-in support.  Open terminal and type `ssh username@bridges.psc.edu`.  You will be prompted to save the fingerprint so type `yes`.  Then put in your PSC password.\n"
   ]
  },
  {
   "cell_type": "code",
   "execution_count": null,
   "metadata": {},
   "outputs": [],
   "source": []
  },
  {
   "cell_type": "code",
   "execution_count": null,
   "metadata": {},
   "outputs": [],
   "source": []
  }
 ],
 "metadata": {
  "kernelspec": {
   "display_name": "Python 3",
   "language": "python",
   "name": "python3"
  },
  "language_info": {
   "codemirror_mode": {
    "name": "ipython",
    "version": 3
   },
   "file_extension": ".py",
   "mimetype": "text/x-python",
   "name": "python",
   "nbconvert_exporter": "python",
   "pygments_lexer": "ipython3",
   "version": "3.6.4"
  }
 },
 "nbformat": 4,
 "nbformat_minor": 2
}
